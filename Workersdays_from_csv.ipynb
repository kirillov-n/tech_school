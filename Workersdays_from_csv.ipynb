{
 "cells": [
  {
   "cell_type": "code",
   "execution_count": null,
   "id": "63f0bf13-90f5-4cb2-bae0-8d0014338d34",
   "metadata": {},
   "outputs": [],
   "source": [
    "import pandas as pd\n",
    "import numpy as np"
   ]
  },
  {
   "cell_type": "code",
   "execution_count": null,
   "id": "5872b819-afa0-4623-9dfe-3d121785a1f8",
   "metadata": {},
   "outputs": [],
   "source": [
    "import json\n",
    "import csv\n",
    "import datetime\n",
    "from numpy import nan"
   ]
  },
  {
   "cell_type": "code",
   "execution_count": null,
   "id": "59056f6b-839b-4709-bcd0-d0f0d715af17",
   "metadata": {},
   "outputs": [],
   "source": [
    "# В репозитории скрипт, скачивающтий календарь в json. Для упрощения, файл был скачан прямо с гитхаба.\n",
    "!curl https://raw.githubusercontent.com/d10xa/holidays-calendar/master/json/consultant2022.json --output workersdays.json"
   ]
  },
  {
   "cell_type": "code",
   "execution_count": null,
   "id": "aa725010-c213-450c-ad66-7459f31f9970",
   "metadata": {},
   "outputs": [],
   "source": [
    "f = open('workersdays.json')\n",
    "data = json.load(f)"
   ]
  },
  {
   "cell_type": "raw",
   "id": "1d73e63e-5e95-4515-acb1-0bb1b47a3558",
   "metadata": {},
   "source": [
    "Преобразование данных их json в dataframe"
   ]
  },
  {
   "cell_type": "code",
   "execution_count": null,
   "id": "db1bb9f1-7f6a-4a8f-a25b-228d190c798d",
   "metadata": {},
   "outputs": [],
   "source": [
    "holidays_list = []\n",
    "if \"holidays\" in data:\n",
    "    for i in data['holidays']:\n",
    "        holidays_list.append(i)"
   ]
  },
  {
   "cell_type": "code",
   "execution_count": null,
   "id": "03e058ab-1c22-4949-9770-5ec8637c4692",
   "metadata": {},
   "outputs": [],
   "source": [
    "preholidays_list = []\n",
    "if \"preholidays\" in data:\n",
    "    for i in data['preholidays']:\n",
    "        preholidays_list.append(i)"
   ]
  },
  {
   "cell_type": "code",
   "execution_count": null,
   "id": "221837d1-a0fb-4b9a-9456-7c744f7641d7",
   "metadata": {},
   "outputs": [],
   "source": [
    "nowork_list = []\n",
    "if \"nowork\" in data:\n",
    "    for i in data['nowork']:\n",
    "        nowork_list.append(i)"
   ]
  },
  {
   "cell_type": "code",
   "execution_count": null,
   "id": "7e12b50b-1f60-4dfe-97b6-b557ed0679c2",
   "metadata": {},
   "outputs": [],
   "source": [
    "if (len(holidays_list) > len(preholidays_list)):\n",
    "       preholidays_list += (len(holidays_list)-len(preholidays_list)) * [nan]\n",
    "if (len(holidays_list) < len(preholidays_list)):\n",
    "        holidays_list += (len(preholidays_list)-len(holidays_list)) * [nan]\n",
    "if (len(holidays_list) > len(nowork_list)):\n",
    "       nowork_list += (len(holidays_list)-len(nowork_list)) * [nan]"
   ]
  },
  {
   "cell_type": "code",
   "execution_count": null,
   "id": "9fa5506c-954b-4e2d-8c7e-30bc3c938d1d",
   "metadata": {},
   "outputs": [],
   "source": [
    "workers_days = pd.DataFrame({'holidays': holidays_list, 'preholidays': preholidays_list, 'nowork': nowork_list})"
   ]
  },
  {
   "cell_type": "code",
   "execution_count": null,
   "id": "f753c048-ecb7-4551-95de-ed11693fd9a1",
   "metadata": {},
   "outputs": [],
   "source": [
    "workers_days['preholidays'][2]"
   ]
  },
  {
   "cell_type": "code",
   "execution_count": null,
   "id": "e1594851-fbb6-47f2-89ea-76e3b45eaf76",
   "metadata": {},
   "outputs": [],
   "source": [
    "for i in range(workers_days.shape[0]):\n",
    "    if workers_days['holidays'].any() & ~pd.isnull(workers_days['holidays'][i]):\n",
    "        workers_days['holidays'][i] = datetime.datetime.strptime(workers_days['holidays'][i], '%Y-%m-%d').date()\n",
    "\n",
    "    if workers_days['preholidays'].any() & ~pd.isnull(workers_days['preholidays'][i]):\n",
    "        workers_days['preholidays'][i] = datetime.datetime.strptime(workers_days['preholidays'][i], '%Y-%m-%d').date()\n",
    "\n",
    "    if workers_days['nowork'].any() & ~pd.isnull(workers_days['nowork'][i]):\n",
    "         workers_days['nowork'][i] = datetime.datetime.strptime(workers_days['nowork'][i], '%Y-%m-%d').date()"
   ]
  },
  {
   "cell_type": "code",
   "execution_count": null,
   "id": "1b1dd2a4-60fb-4720-be35-5a82c190e4c7",
   "metadata": {},
   "outputs": [],
   "source": [
    "workers_days"
   ]
  },
  {
   "cell_type": "code",
   "execution_count": null,
   "id": "3786536f-5d10-46ba-b15f-e5318501f4f5",
   "metadata": {},
   "outputs": [],
   "source": [
    "workers_days.dtypes"
   ]
  },
  {
   "cell_type": "code",
   "execution_count": null,
   "id": "725c0741-142f-4a8e-b03e-7cf4d5bfd3fc",
   "metadata": {},
   "outputs": [],
   "source": [
    "workers_days[\"holidays\"][0]"
   ]
  },
  {
   "cell_type": "code",
   "execution_count": null,
   "id": "168ed921-0119-4e01-b5a9-757880954f25",
   "metadata": {},
   "outputs": [],
   "source": [
    "workers_days[\"preholidays\"][0]"
   ]
  },
  {
   "cell_type": "code",
   "execution_count": null,
   "id": "d5cf83e2-9f71-43bc-907a-8b3898b2c223",
   "metadata": {},
   "outputs": [],
   "source": [
    "dates_ = pd.date_range(start='1/1/2022', end='31/12/2022')\n",
    "id_ = list(range(1, len(dates_)+1))\n",
    "df_structure = pd.DataFrame({'id': id_, 'date': dates_, 'if_working': nan, 'in_hours': nan})"
   ]
  },
  {
   "cell_type": "code",
   "execution_count": null,
   "id": "b41baeca-2e88-4bae-8059-d43f80c5ddb7",
   "metadata": {},
   "outputs": [],
   "source": [
    "# Создание структуры датасета\n",
    "df_structure['date'] = df_structure['date'].dt.date"
   ]
  },
  {
   "cell_type": "code",
   "execution_count": null,
   "id": "8a6e70b9-a468-48a7-8c98-a89cc4e2ec01",
   "metadata": {},
   "outputs": [],
   "source": [
    "df_structure"
   ]
  },
  {
   "cell_type": "code",
   "execution_count": null,
   "id": "6f3bce86-d561-42f6-b804-e2b562caf3f3",
   "metadata": {},
   "outputs": [],
   "source": [
    "df_structure.dtypes"
   ]
  },
  {
   "cell_type": "code",
   "execution_count": null,
   "id": "5206d309-8b70-4512-b2da-00b519459651",
   "metadata": {},
   "outputs": [],
   "source": [
    "workers_days['nowork'][0]"
   ]
  },
  {
   "cell_type": "code",
   "execution_count": null,
   "id": "6aafbf8b-84cc-4adb-add4-56369cb66b93",
   "metadata": {},
   "outputs": [],
   "source": [
    "df_structure['date'][0]"
   ]
  },
  {
   "cell_type": "raw",
   "id": "08f9ad7b-657b-465f-ac75-2e2d43c04901",
   "metadata": {},
   "source": [
    "Заполнение набора данных"
   ]
  },
  {
   "cell_type": "code",
   "execution_count": null,
   "id": "97f240b1-bace-4763-b183-8ffcdbea2004",
   "metadata": {},
   "outputs": [],
   "source": [
    "for i in range(df_structure.shape[0]):\n",
    "    if any(workers_days['preholidays'] == df_structure['date'][i]):\n",
    "        df_structure['if_working'][i] = \"7\"\n",
    "        df_structure['in_hours'][i] = 7\n",
    "    elif any(workers_days['holidays'] == df_structure['date'][i]):\n",
    "        df_structure['if_working'][i] = \"Пр\"\n",
    "        df_structure['in_hours'][i] = 0\n",
    "    elif any(workers_days['nowork'] == df_structure['date'][i]):\n",
    "        df_structure['if_working'][i]  = \"Пр\"\n",
    "        df_structure['in_hours'][i] = 0\n",
    "    else:\n",
    "        df_structure['if_working'][i] = \"8\"\n",
    "        df_structure['in_hours'][i] = 8"
   ]
  },
  {
   "cell_type": "code",
   "execution_count": null,
   "id": "22816e0c-1f92-461b-b500-62f721f15d72",
   "metadata": {},
   "outputs": [],
   "source": [
    "df_structure['in_hours'] = df_structure['in_hours'].astype(int)\n",
    "df_structure['if_working'] = df_structure['if_working']"
   ]
  },
  {
   "cell_type": "code",
   "execution_count": null,
   "id": "595ff567-146a-4985-98ca-ddf02bdbb19b",
   "metadata": {},
   "outputs": [],
   "source": [
    "df_structure[\"if_working\"].unique()"
   ]
  },
  {
   "cell_type": "code",
   "execution_count": null,
   "id": "fb655418-ca3d-48bb-a9bb-2fcd0778a231",
   "metadata": {},
   "outputs": [],
   "source": [
    "print(df_structure.dtypes)"
   ]
  },
  {
   "cell_type": "code",
   "execution_count": null,
   "id": "ee5a7714-dc18-4c16-9980-7403f54024b5",
   "metadata": {},
   "outputs": [],
   "source": [
    "df_structure.to_csv(\"workersdays2022.csv\", index=False, encoding=\"utf-8\")"
   ]
  },
  {
   "cell_type": "code",
   "execution_count": null,
   "id": "e2fdf7bf-044c-4e8f-9b43-6a4ce7e78163",
   "metadata": {},
   "outputs": [],
   "source": []
  }
 ],
 "metadata": {
  "kernelspec": {
   "display_name": "Python 3 (ipykernel)",
   "language": "python",
   "name": "python3"
  },
  "language_info": {
   "codemirror_mode": {
    "name": "ipython",
    "version": 3
   },
   "file_extension": ".py",
   "mimetype": "text/x-python",
   "name": "python",
   "nbconvert_exporter": "python",
   "pygments_lexer": "ipython3",
   "version": "3.9.7"
  }
 },
 "nbformat": 4,
 "nbformat_minor": 5
}
