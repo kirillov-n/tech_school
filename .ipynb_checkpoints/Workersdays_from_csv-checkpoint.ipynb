{
 "cells": [
  {
   "cell_type": "code",
   "execution_count": 1,
   "id": "63f0bf13-90f5-4cb2-bae0-8d0014338d34",
   "metadata": {},
   "outputs": [],
   "source": [
    "import pandas as pd"
   ]
  },
  {
   "cell_type": "code",
   "execution_count": 173,
   "id": "5872b819-afa0-4623-9dfe-3d121785a1f8",
   "metadata": {},
   "outputs": [],
   "source": [
    "import json\n",
    "import csv\n",
    "import datetime\n",
    "from numpy import nan"
   ]
  },
  {
   "cell_type": "code",
   "execution_count": 163,
   "id": "59056f6b-839b-4709-bcd0-d0f0d715af17",
   "metadata": {},
   "outputs": [
    {
     "name": "stderr",
     "output_type": "stream",
     "text": [
      "  % Total    % Received % Xferd  Average Speed   Time    Time     Time  Current\n",
      "                                 Dload  Upload   Total   Spent    Left  Speed\n",
      "\n",
      "  0     0    0     0    0     0      0      0 --:--:-- --:--:-- --:--:--     0\n",
      "100  2715  100  2715    0     0  14905      0 --:--:-- --:--:-- --:--:-- 15000\n"
     ]
    }
   ],
   "source": [
    "!curl https://raw.githubusercontent.com/d10xa/holidays-calendar/master/json/consultant2022.json --output workersdays.json"
   ]
  },
  {
   "cell_type": "code",
   "execution_count": 164,
   "id": "aa725010-c213-450c-ad66-7459f31f9970",
   "metadata": {},
   "outputs": [],
   "source": [
    "f = open('workersdays.json')\n",
    "data = json.load(f)"
   ]
  },
  {
   "cell_type": "code",
   "execution_count": 165,
   "id": "db1bb9f1-7f6a-4a8f-a25b-228d190c798d",
   "metadata": {},
   "outputs": [],
   "source": [
    "holidays_list = []\n",
    "for i in data['holidays']:\n",
    "    holidays_list.append(i)"
   ]
  },
  {
   "cell_type": "code",
   "execution_count": 166,
   "id": "03e058ab-1c22-4949-9770-5ec8637c4692",
   "metadata": {},
   "outputs": [],
   "source": [
    "preholidays_list = []\n",
    "for i in data['preholidays']:\n",
    "    preholidays_list.append(i)"
   ]
  },
  {
   "cell_type": "code",
   "execution_count": 167,
   "id": "221837d1-a0fb-4b9a-9456-7c744f7641d7",
   "metadata": {},
   "outputs": [],
   "source": [
    "# nowork_list = []\n",
    "# for i in data['nowork']:\n",
    "#     nowork_list.append(i)"
   ]
  },
  {
   "cell_type": "code",
   "execution_count": 168,
   "id": "7e12b50b-1f60-4dfe-97b6-b557ed0679c2",
   "metadata": {},
   "outputs": [],
   "source": [
    "if (len(holidays_list) > len(preholidays_list)):\n",
    "       preholidays_list += (len(holidays_list)-len(preholidays_list)) * [nan]\n",
    "elif (len(holidays_list) < len(preholidays_list)):\n",
    "        holidays_list += (len(preholidays_list)-len(holidays_list)) * [nan]\n",
    "elif (len(holidays_list) > len(nowork_list)):\n",
    "       nowork_list += (len(holidays_list)-len(nowork_list)) * [nan]"
   ]
  },
  {
   "cell_type": "code",
   "execution_count": 185,
   "id": "9fa5506c-954b-4e2d-8c7e-30bc3c938d1d",
   "metadata": {},
   "outputs": [],
   "source": [
    "workers_days = pd.DataFrame({'holidays': holidays_list, 'preholidays': preholidays_list, 'nowork': nowork_list})"
   ]
  },
  {
   "cell_type": "code",
   "execution_count": 187,
   "id": "e1594851-fbb6-47f2-89ea-76e3b45eaf76",
   "metadata": {},
   "outputs": [
    {
     "name": "stderr",
     "output_type": "stream",
     "text": [
      "C:\\Users\\kiril\\AppData\\Local\\Temp/ipykernel_14612/4159267010.py:3: SettingWithCopyWarning: \n",
      "A value is trying to be set on a copy of a slice from a DataFrame\n",
      "\n",
      "See the caveats in the documentation: https://pandas.pydata.org/pandas-docs/stable/user_guide/indexing.html#returning-a-view-versus-a-copy\n",
      "  workers_days['holidays'][i] = datetime.datetime.strptime(workers_days['holidays'][i], '%Y-%m-%d').date()\n"
     ]
    }
   ],
   "source": [
    "for i in range(workers_days.shape[0]):\n",
    "    if any(workers_days['holidays']):\n",
    "        workers_days['holidays'][i] = datetime.datetime.strptime(workers_days['holidays'][i], '%Y-%m-%d').date()\n",
    "\n",
    "    elif any(workers_days['preholidays']):\n",
    "        workers_days['preholidays'][i] = datetime.datetime.strptime(workers_days['preholidays'][i], '%Y-%m-%d').date()\n",
    "\n",
    "    elif any(workers_days['nowork']):\n",
    "         workers_days['nowork'][i] = datetime.datetime.strptime(workers_days['nowork'][i], '%Y-%m-%d').date()"
   ]
  },
  {
   "cell_type": "code",
   "execution_count": 188,
   "id": "1b1dd2a4-60fb-4720-be35-5a82c190e4c7",
   "metadata": {},
   "outputs": [
    {
     "data": {
      "text/html": [
       "<div>\n",
       "<style scoped>\n",
       "    .dataframe tbody tr th:only-of-type {\n",
       "        vertical-align: middle;\n",
       "    }\n",
       "\n",
       "    .dataframe tbody tr th {\n",
       "        vertical-align: top;\n",
       "    }\n",
       "\n",
       "    .dataframe thead th {\n",
       "        text-align: right;\n",
       "    }\n",
       "</style>\n",
       "<table border=\"1\" class=\"dataframe\">\n",
       "  <thead>\n",
       "    <tr style=\"text-align: right;\">\n",
       "      <th></th>\n",
       "      <th>holidays</th>\n",
       "      <th>preholidays</th>\n",
       "      <th>nowork</th>\n",
       "    </tr>\n",
       "  </thead>\n",
       "  <tbody>\n",
       "    <tr>\n",
       "      <th>0</th>\n",
       "      <td>2022-01-01</td>\n",
       "      <td>2022-02-22</td>\n",
       "      <td>NaN</td>\n",
       "    </tr>\n",
       "    <tr>\n",
       "      <th>1</th>\n",
       "      <td>2022-01-02</td>\n",
       "      <td>2022-03-05</td>\n",
       "      <td>NaN</td>\n",
       "    </tr>\n",
       "    <tr>\n",
       "      <th>2</th>\n",
       "      <td>2022-01-03</td>\n",
       "      <td>2022-11-03</td>\n",
       "      <td>NaN</td>\n",
       "    </tr>\n",
       "    <tr>\n",
       "      <th>3</th>\n",
       "      <td>2022-01-04</td>\n",
       "      <td>NaN</td>\n",
       "      <td>NaN</td>\n",
       "    </tr>\n",
       "    <tr>\n",
       "      <th>4</th>\n",
       "      <td>2022-01-05</td>\n",
       "      <td>NaN</td>\n",
       "      <td>NaN</td>\n",
       "    </tr>\n",
       "    <tr>\n",
       "      <th>...</th>\n",
       "      <td>...</td>\n",
       "      <td>...</td>\n",
       "      <td>...</td>\n",
       "    </tr>\n",
       "    <tr>\n",
       "      <th>113</th>\n",
       "      <td>2022-12-17</td>\n",
       "      <td>NaN</td>\n",
       "      <td>NaN</td>\n",
       "    </tr>\n",
       "    <tr>\n",
       "      <th>114</th>\n",
       "      <td>2022-12-18</td>\n",
       "      <td>NaN</td>\n",
       "      <td>NaN</td>\n",
       "    </tr>\n",
       "    <tr>\n",
       "      <th>115</th>\n",
       "      <td>2022-12-24</td>\n",
       "      <td>NaN</td>\n",
       "      <td>NaN</td>\n",
       "    </tr>\n",
       "    <tr>\n",
       "      <th>116</th>\n",
       "      <td>2022-12-25</td>\n",
       "      <td>NaN</td>\n",
       "      <td>NaN</td>\n",
       "    </tr>\n",
       "    <tr>\n",
       "      <th>117</th>\n",
       "      <td>2022-12-31</td>\n",
       "      <td>NaN</td>\n",
       "      <td>NaN</td>\n",
       "    </tr>\n",
       "  </tbody>\n",
       "</table>\n",
       "<p>118 rows × 3 columns</p>\n",
       "</div>"
      ],
      "text/plain": [
       "       holidays preholidays  nowork\n",
       "0    2022-01-01  2022-02-22     NaN\n",
       "1    2022-01-02  2022-03-05     NaN\n",
       "2    2022-01-03  2022-11-03     NaN\n",
       "3    2022-01-04         NaN     NaN\n",
       "4    2022-01-05         NaN     NaN\n",
       "..          ...         ...     ...\n",
       "113  2022-12-17         NaN     NaN\n",
       "114  2022-12-18         NaN     NaN\n",
       "115  2022-12-24         NaN     NaN\n",
       "116  2022-12-25         NaN     NaN\n",
       "117  2022-12-31         NaN     NaN\n",
       "\n",
       "[118 rows x 3 columns]"
      ]
     },
     "execution_count": 188,
     "metadata": {},
     "output_type": "execute_result"
    }
   ],
   "source": [
    "workers_days"
   ]
  },
  {
   "cell_type": "code",
   "execution_count": 189,
   "id": "3786536f-5d10-46ba-b15f-e5318501f4f5",
   "metadata": {},
   "outputs": [
    {
     "data": {
      "text/plain": [
       "holidays        object\n",
       "preholidays     object\n",
       "nowork         float64\n",
       "dtype: object"
      ]
     },
     "execution_count": 189,
     "metadata": {},
     "output_type": "execute_result"
    }
   ],
   "source": [
    "workers_days.dtypes"
   ]
  },
  {
   "cell_type": "code",
   "execution_count": 194,
   "id": "d5cf83e2-9f71-43bc-907a-8b3898b2c223",
   "metadata": {},
   "outputs": [],
   "source": [
    "dates_ = pd.date_range(start='1/1/2022', end='31/12/2022')\n",
    "id_ = list(range(1, len(dates_)+1))\n",
    "df_structure = pd.DataFrame({'id': id_, 'date': dates_, 'if_working': nan, 'in_hours': nan})"
   ]
  },
  {
   "cell_type": "code",
   "execution_count": 195,
   "id": "b41baeca-2e88-4bae-8059-d43f80c5ddb7",
   "metadata": {},
   "outputs": [],
   "source": [
    "df_structure['date'] = df_structure['date'].dt.date"
   ]
  },
  {
   "cell_type": "code",
   "execution_count": 196,
   "id": "8a6e70b9-a468-48a7-8c98-a89cc4e2ec01",
   "metadata": {},
   "outputs": [
    {
     "data": {
      "text/html": [
       "<div>\n",
       "<style scoped>\n",
       "    .dataframe tbody tr th:only-of-type {\n",
       "        vertical-align: middle;\n",
       "    }\n",
       "\n",
       "    .dataframe tbody tr th {\n",
       "        vertical-align: top;\n",
       "    }\n",
       "\n",
       "    .dataframe thead th {\n",
       "        text-align: right;\n",
       "    }\n",
       "</style>\n",
       "<table border=\"1\" class=\"dataframe\">\n",
       "  <thead>\n",
       "    <tr style=\"text-align: right;\">\n",
       "      <th></th>\n",
       "      <th>id</th>\n",
       "      <th>date</th>\n",
       "      <th>if_working</th>\n",
       "      <th>in_hours</th>\n",
       "    </tr>\n",
       "  </thead>\n",
       "  <tbody>\n",
       "    <tr>\n",
       "      <th>0</th>\n",
       "      <td>1</td>\n",
       "      <td>2022-01-01</td>\n",
       "      <td>NaN</td>\n",
       "      <td>NaN</td>\n",
       "    </tr>\n",
       "    <tr>\n",
       "      <th>1</th>\n",
       "      <td>2</td>\n",
       "      <td>2022-01-02</td>\n",
       "      <td>NaN</td>\n",
       "      <td>NaN</td>\n",
       "    </tr>\n",
       "    <tr>\n",
       "      <th>2</th>\n",
       "      <td>3</td>\n",
       "      <td>2022-01-03</td>\n",
       "      <td>NaN</td>\n",
       "      <td>NaN</td>\n",
       "    </tr>\n",
       "    <tr>\n",
       "      <th>3</th>\n",
       "      <td>4</td>\n",
       "      <td>2022-01-04</td>\n",
       "      <td>NaN</td>\n",
       "      <td>NaN</td>\n",
       "    </tr>\n",
       "    <tr>\n",
       "      <th>4</th>\n",
       "      <td>5</td>\n",
       "      <td>2022-01-05</td>\n",
       "      <td>NaN</td>\n",
       "      <td>NaN</td>\n",
       "    </tr>\n",
       "    <tr>\n",
       "      <th>...</th>\n",
       "      <td>...</td>\n",
       "      <td>...</td>\n",
       "      <td>...</td>\n",
       "      <td>...</td>\n",
       "    </tr>\n",
       "    <tr>\n",
       "      <th>360</th>\n",
       "      <td>361</td>\n",
       "      <td>2022-12-27</td>\n",
       "      <td>NaN</td>\n",
       "      <td>NaN</td>\n",
       "    </tr>\n",
       "    <tr>\n",
       "      <th>361</th>\n",
       "      <td>362</td>\n",
       "      <td>2022-12-28</td>\n",
       "      <td>NaN</td>\n",
       "      <td>NaN</td>\n",
       "    </tr>\n",
       "    <tr>\n",
       "      <th>362</th>\n",
       "      <td>363</td>\n",
       "      <td>2022-12-29</td>\n",
       "      <td>NaN</td>\n",
       "      <td>NaN</td>\n",
       "    </tr>\n",
       "    <tr>\n",
       "      <th>363</th>\n",
       "      <td>364</td>\n",
       "      <td>2022-12-30</td>\n",
       "      <td>NaN</td>\n",
       "      <td>NaN</td>\n",
       "    </tr>\n",
       "    <tr>\n",
       "      <th>364</th>\n",
       "      <td>365</td>\n",
       "      <td>2022-12-31</td>\n",
       "      <td>NaN</td>\n",
       "      <td>NaN</td>\n",
       "    </tr>\n",
       "  </tbody>\n",
       "</table>\n",
       "<p>365 rows × 4 columns</p>\n",
       "</div>"
      ],
      "text/plain": [
       "      id        date  if_working  in_hours\n",
       "0      1  2022-01-01         NaN       NaN\n",
       "1      2  2022-01-02         NaN       NaN\n",
       "2      3  2022-01-03         NaN       NaN\n",
       "3      4  2022-01-04         NaN       NaN\n",
       "4      5  2022-01-05         NaN       NaN\n",
       "..   ...         ...         ...       ...\n",
       "360  361  2022-12-27         NaN       NaN\n",
       "361  362  2022-12-28         NaN       NaN\n",
       "362  363  2022-12-29         NaN       NaN\n",
       "363  364  2022-12-30         NaN       NaN\n",
       "364  365  2022-12-31         NaN       NaN\n",
       "\n",
       "[365 rows x 4 columns]"
      ]
     },
     "execution_count": 196,
     "metadata": {},
     "output_type": "execute_result"
    }
   ],
   "source": [
    "df_structure"
   ]
  },
  {
   "cell_type": "code",
   "execution_count": 197,
   "id": "6f3bce86-d561-42f6-b804-e2b562caf3f3",
   "metadata": {},
   "outputs": [
    {
     "data": {
      "text/plain": [
       "id              int64\n",
       "date           object\n",
       "if_working    float64\n",
       "in_hours      float64\n",
       "dtype: object"
      ]
     },
     "execution_count": 197,
     "metadata": {},
     "output_type": "execute_result"
    }
   ],
   "source": [
    "df_structure.dtypes"
   ]
  },
  {
   "cell_type": "code",
   "execution_count": 198,
   "id": "5206d309-8b70-4512-b2da-00b519459651",
   "metadata": {},
   "outputs": [
    {
     "data": {
      "text/plain": [
       "datetime.date(2022, 1, 1)"
      ]
     },
     "execution_count": 198,
     "metadata": {},
     "output_type": "execute_result"
    }
   ],
   "source": [
    "workers_days['holidays'][0]"
   ]
  },
  {
   "cell_type": "code",
   "execution_count": 199,
   "id": "6aafbf8b-84cc-4adb-add4-56369cb66b93",
   "metadata": {},
   "outputs": [
    {
     "data": {
      "text/plain": [
       "datetime.date(2022, 1, 1)"
      ]
     },
     "execution_count": 199,
     "metadata": {},
     "output_type": "execute_result"
    }
   ],
   "source": [
    "df_structure['date'][0]"
   ]
  },
  {
   "cell_type": "code",
   "execution_count": 200,
   "id": "97f240b1-bace-4763-b183-8ffcdbea2004",
   "metadata": {},
   "outputs": [
    {
     "name": "stderr",
     "output_type": "stream",
     "text": [
      "C:\\Users\\kiril\\AppData\\Local\\Temp/ipykernel_14612/1141598575.py:3: SettingWithCopyWarning: \n",
      "A value is trying to be set on a copy of a slice from a DataFrame\n",
      "\n",
      "See the caveats in the documentation: https://pandas.pydata.org/pandas-docs/stable/user_guide/indexing.html#returning-a-view-versus-a-copy\n",
      "  df_structure['if_working'][i] = \"Пр\"\n",
      "C:\\Users\\kiril\\AppData\\Roaming\\Python\\Python39\\site-packages\\pandas\\core\\indexing.py:1732: SettingWithCopyWarning: \n",
      "A value is trying to be set on a copy of a slice from a DataFrame\n",
      "\n",
      "See the caveats in the documentation: https://pandas.pydata.org/pandas-docs/stable/user_guide/indexing.html#returning-a-view-versus-a-copy\n",
      "  self._setitem_single_block(indexer, value, name)\n",
      "C:\\Users\\kiril\\AppData\\Local\\Temp/ipykernel_14612/1141598575.py:4: SettingWithCopyWarning: \n",
      "A value is trying to be set on a copy of a slice from a DataFrame\n",
      "\n",
      "See the caveats in the documentation: https://pandas.pydata.org/pandas-docs/stable/user_guide/indexing.html#returning-a-view-versus-a-copy\n",
      "  df_structure['in_hours'][i] = 0\n",
      "C:\\Users\\kiril\\AppData\\Local\\Temp/ipykernel_14612/1141598575.py:13: SettingWithCopyWarning: \n",
      "A value is trying to be set on a copy of a slice from a DataFrame\n",
      "\n",
      "See the caveats in the documentation: https://pandas.pydata.org/pandas-docs/stable/user_guide/indexing.html#returning-a-view-versus-a-copy\n",
      "  df_structure['in_hours'][i] = 8\n"
     ]
    }
   ],
   "source": [
    "for i in range(df_structure.shape[0]):\n",
    "    if any(workers_days['holidays'] == df_structure['date'][i]):\n",
    "        df_structure['if_working'][i] = \"Пр\"\n",
    "        df_structure['in_hours'][i] = 0\n",
    "    elif any(workers_days['preholidays'] == df_structure['date'][i]):\n",
    "        df_structure['if_working'][i] = \"7\"\n",
    "        df_structure['in_hours'][i] = 7\n",
    "    elif any(workers_days['nowork'] == df_structure['date'][i]):\n",
    "        df_structure['if_working'][i]  = \"Пр\"\n",
    "        df_structure['in_hours'][i] = 0\n",
    "    else:\n",
    "        df_structure['if_working'][i] = \"8\"\n",
    "        df_structure['in_hours'][i] = 8"
   ]
  },
  {
   "cell_type": "code",
   "execution_count": 201,
   "id": "22816e0c-1f92-461b-b500-62f721f15d72",
   "metadata": {},
   "outputs": [],
   "source": [
    "df_structure['in_hours'] = df_structure['in_hours'].astype(int)\n",
    "df_structure['if_working'] = df_structure['if_working']"
   ]
  },
  {
   "cell_type": "code",
   "execution_count": 202,
   "id": "595ff567-146a-4985-98ca-ddf02bdbb19b",
   "metadata": {},
   "outputs": [
    {
     "data": {
      "text/html": [
       "<div>\n",
       "<style scoped>\n",
       "    .dataframe tbody tr th:only-of-type {\n",
       "        vertical-align: middle;\n",
       "    }\n",
       "\n",
       "    .dataframe tbody tr th {\n",
       "        vertical-align: top;\n",
       "    }\n",
       "\n",
       "    .dataframe thead th {\n",
       "        text-align: right;\n",
       "    }\n",
       "</style>\n",
       "<table border=\"1\" class=\"dataframe\">\n",
       "  <thead>\n",
       "    <tr style=\"text-align: right;\">\n",
       "      <th></th>\n",
       "      <th>id</th>\n",
       "      <th>date</th>\n",
       "      <th>if_working</th>\n",
       "      <th>in_hours</th>\n",
       "    </tr>\n",
       "  </thead>\n",
       "  <tbody>\n",
       "    <tr>\n",
       "      <th>0</th>\n",
       "      <td>1</td>\n",
       "      <td>2022-01-01</td>\n",
       "      <td>Пр</td>\n",
       "      <td>0</td>\n",
       "    </tr>\n",
       "    <tr>\n",
       "      <th>1</th>\n",
       "      <td>2</td>\n",
       "      <td>2022-01-02</td>\n",
       "      <td>Пр</td>\n",
       "      <td>0</td>\n",
       "    </tr>\n",
       "    <tr>\n",
       "      <th>2</th>\n",
       "      <td>3</td>\n",
       "      <td>2022-01-03</td>\n",
       "      <td>Пр</td>\n",
       "      <td>0</td>\n",
       "    </tr>\n",
       "    <tr>\n",
       "      <th>3</th>\n",
       "      <td>4</td>\n",
       "      <td>2022-01-04</td>\n",
       "      <td>Пр</td>\n",
       "      <td>0</td>\n",
       "    </tr>\n",
       "    <tr>\n",
       "      <th>4</th>\n",
       "      <td>5</td>\n",
       "      <td>2022-01-05</td>\n",
       "      <td>Пр</td>\n",
       "      <td>0</td>\n",
       "    </tr>\n",
       "    <tr>\n",
       "      <th>...</th>\n",
       "      <td>...</td>\n",
       "      <td>...</td>\n",
       "      <td>...</td>\n",
       "      <td>...</td>\n",
       "    </tr>\n",
       "    <tr>\n",
       "      <th>360</th>\n",
       "      <td>361</td>\n",
       "      <td>2022-12-27</td>\n",
       "      <td>8</td>\n",
       "      <td>8</td>\n",
       "    </tr>\n",
       "    <tr>\n",
       "      <th>361</th>\n",
       "      <td>362</td>\n",
       "      <td>2022-12-28</td>\n",
       "      <td>8</td>\n",
       "      <td>8</td>\n",
       "    </tr>\n",
       "    <tr>\n",
       "      <th>362</th>\n",
       "      <td>363</td>\n",
       "      <td>2022-12-29</td>\n",
       "      <td>8</td>\n",
       "      <td>8</td>\n",
       "    </tr>\n",
       "    <tr>\n",
       "      <th>363</th>\n",
       "      <td>364</td>\n",
       "      <td>2022-12-30</td>\n",
       "      <td>8</td>\n",
       "      <td>8</td>\n",
       "    </tr>\n",
       "    <tr>\n",
       "      <th>364</th>\n",
       "      <td>365</td>\n",
       "      <td>2022-12-31</td>\n",
       "      <td>Пр</td>\n",
       "      <td>0</td>\n",
       "    </tr>\n",
       "  </tbody>\n",
       "</table>\n",
       "<p>365 rows × 4 columns</p>\n",
       "</div>"
      ],
      "text/plain": [
       "      id        date if_working  in_hours\n",
       "0      1  2022-01-01         Пр         0\n",
       "1      2  2022-01-02         Пр         0\n",
       "2      3  2022-01-03         Пр         0\n",
       "3      4  2022-01-04         Пр         0\n",
       "4      5  2022-01-05         Пр         0\n",
       "..   ...         ...        ...       ...\n",
       "360  361  2022-12-27          8         8\n",
       "361  362  2022-12-28          8         8\n",
       "362  363  2022-12-29          8         8\n",
       "363  364  2022-12-30          8         8\n",
       "364  365  2022-12-31         Пр         0\n",
       "\n",
       "[365 rows x 4 columns]"
      ]
     },
     "execution_count": 202,
     "metadata": {},
     "output_type": "execute_result"
    }
   ],
   "source": [
    "df_structure"
   ]
  },
  {
   "cell_type": "code",
   "execution_count": 203,
   "id": "fb655418-ca3d-48bb-a9bb-2fcd0778a231",
   "metadata": {},
   "outputs": [
    {
     "name": "stdout",
     "output_type": "stream",
     "text": [
      "id             int64\n",
      "date          object\n",
      "if_working    object\n",
      "in_hours       int32\n",
      "dtype: object\n"
     ]
    }
   ],
   "source": [
    "print(df_structure.dtypes)"
   ]
  },
  {
   "cell_type": "code",
   "execution_count": 204,
   "id": "ee5a7714-dc18-4c16-9980-7403f54024b5",
   "metadata": {},
   "outputs": [],
   "source": [
    "df_structure.to_csv(\"workersdays2022.csv\", index=False, encoding=\"utf-8\")"
   ]
  },
  {
   "cell_type": "code",
   "execution_count": null,
   "id": "e2fdf7bf-044c-4e8f-9b43-6a4ce7e78163",
   "metadata": {},
   "outputs": [],
   "source": []
  }
 ],
 "metadata": {
  "kernelspec": {
   "display_name": "Python 3 (ipykernel)",
   "language": "python",
   "name": "python3"
  },
  "language_info": {
   "codemirror_mode": {
    "name": "ipython",
    "version": 3
   },
   "file_extension": ".py",
   "mimetype": "text/x-python",
   "name": "python",
   "nbconvert_exporter": "python",
   "pygments_lexer": "ipython3",
   "version": "3.9.7"
  }
 },
 "nbformat": 4,
 "nbformat_minor": 5
}
